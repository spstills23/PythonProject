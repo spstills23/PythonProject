{
 "cells": [
  {
   "cell_type": "markdown",
   "metadata": {},
   "source": [
    "#      Does a college basketball team perform better when their mascot is Human or Non-Human in the NCAA basketball Tournament?\n",
    "### -This report will take the results from every NCAA Tournamnet game since the 1985 season and compare whether teams with Non-Human or Human mascots win more"
   ]
  },
  {
   "cell_type": "code",
   "execution_count": 1,
   "metadata": {},
   "outputs": [],
   "source": [
    "import os\n",
    "import numpy as np\n",
    "import pandas as pd\n",
    "import matplotlib.pyplot as plt\n",
    "import sqlite3"
   ]
  },
  {
   "cell_type": "markdown",
   "metadata": {},
   "source": [
    "#### Below I will be creating the following dataframes from .csv files from Kaggle about NCAA Basketball Tournamnet Teams:\n",
    "    mascots_df- shows the teams as well as their respective mascots\n",
    "    colors_df- shows the teams with their team colors \n",
    "    tourny_df- shows the teams, scores of earch team in the game, seeds and other data not used\n",
    "#### I will also take the above dataframes and create SQL databases to query them down to managable sizes to manipulate"
   ]
  },
  {
   "cell_type": "markdown",
   "metadata": {},
   "source": [
    "### Mascots "
   ]
  },
  {
   "cell_type": "code",
   "execution_count": 2,
   "metadata": {
    "scrolled": true
   },
   "outputs": [
    {
     "data": {
      "text/html": [
       "<div>\n",
       "<style scoped>\n",
       "    .dataframe tbody tr th:only-of-type {\n",
       "        vertical-align: middle;\n",
       "    }\n",
       "\n",
       "    .dataframe tbody tr th {\n",
       "        vertical-align: top;\n",
       "    }\n",
       "\n",
       "    .dataframe thead th {\n",
       "        text-align: right;\n",
       "    }\n",
       "</style>\n",
       "<table border=\"1\" class=\"dataframe\">\n",
       "  <thead>\n",
       "    <tr style=\"text-align: right;\">\n",
       "      <th></th>\n",
       "      <th>id</th>\n",
       "      <th>market</th>\n",
       "      <th>name</th>\n",
       "      <th>mascot</th>\n",
       "      <th>mascot_name</th>\n",
       "      <th>mascot_common_name</th>\n",
       "    </tr>\n",
       "  </thead>\n",
       "  <tbody>\n",
       "    <tr>\n",
       "      <th>0</th>\n",
       "      <td>2959bd24-7007-41ae-a3a3-abdf26888cfc</td>\n",
       "      <td>Tulsa</td>\n",
       "      <td>Golden Hurricane</td>\n",
       "      <td>Hurricane</td>\n",
       "      <td>Captain Cane</td>\n",
       "      <td>Hurricane</td>\n",
       "    </tr>\n",
       "    <tr>\n",
       "      <th>1</th>\n",
       "      <td>ad4bc983-8d2e-4e6f-a8f9-80840a786c64</td>\n",
       "      <td>Arizona State</td>\n",
       "      <td>Sun Devils</td>\n",
       "      <td>Devil</td>\n",
       "      <td>Sparky</td>\n",
       "      <td>Devil</td>\n",
       "    </tr>\n",
       "    <tr>\n",
       "      <th>2</th>\n",
       "      <td>f2d01b77-0f5d-4574-9e49-2a3eaf822e44</td>\n",
       "      <td>Drexel</td>\n",
       "      <td>Dragons</td>\n",
       "      <td>Dragon</td>\n",
       "      <td>Mario the Magnificent</td>\n",
       "      <td>Dragon</td>\n",
       "    </tr>\n",
       "    <tr>\n",
       "      <th>3</th>\n",
       "      <td>b47d10b8-a2a5-47df-a2f9-7bd0b9d51beb</td>\n",
       "      <td>Bradley</td>\n",
       "      <td>Braves</td>\n",
       "      <td>Gargoyle</td>\n",
       "      <td>Kaboom!</td>\n",
       "      <td>Gargoyle</td>\n",
       "    </tr>\n",
       "    <tr>\n",
       "      <th>4</th>\n",
       "      <td>0113eea0-c943-4fff-9780-ae0fb099e7ef</td>\n",
       "      <td>Canisius</td>\n",
       "      <td>Golden Griffins</td>\n",
       "      <td>Griffin</td>\n",
       "      <td>Petey</td>\n",
       "      <td>Griffin</td>\n",
       "    </tr>\n",
       "  </tbody>\n",
       "</table>\n",
       "</div>"
      ],
      "text/plain": [
       "                                     id         market              name  \\\n",
       "0  2959bd24-7007-41ae-a3a3-abdf26888cfc          Tulsa  Golden Hurricane   \n",
       "1  ad4bc983-8d2e-4e6f-a8f9-80840a786c64  Arizona State        Sun Devils   \n",
       "2  f2d01b77-0f5d-4574-9e49-2a3eaf822e44         Drexel           Dragons   \n",
       "3  b47d10b8-a2a5-47df-a2f9-7bd0b9d51beb        Bradley            Braves   \n",
       "4  0113eea0-c943-4fff-9780-ae0fb099e7ef       Canisius   Golden Griffins   \n",
       "\n",
       "      mascot            mascot_name mascot_common_name  \n",
       "0  Hurricane           Captain Cane          Hurricane  \n",
       "1      Devil                 Sparky              Devil  \n",
       "2     Dragon  Mario the Magnificent             Dragon  \n",
       "3   Gargoyle                Kaboom!           Gargoyle  \n",
       "4    Griffin                  Petey            Griffin  "
      ]
     },
     "execution_count": 2,
     "metadata": {},
     "output_type": "execute_result"
    }
   ],
   "source": [
    "df1_df = pd.read_csv(\"team_mascots.csv\", delimiter = ',')\n",
    "df1_df.to_sql(\"mascot_table\", sqlite3.connect(\"teamMascots.db\"), if_exists = \"replace\")\n",
    "\n",
    "con = sqlite3.connect(\"teamMascots.db\")\n",
    "mascots_df =pd.read_sql_query(\"SELECT id, market, name, mascot, mascot_name, mascot_common_name FROM mascot_table\", con)\n",
    "mascots_df.head()"
   ]
  },
  {
   "cell_type": "markdown",
   "metadata": {},
   "source": [
    "### Team Colors"
   ]
  },
  {
   "cell_type": "code",
   "execution_count": 3,
   "metadata": {
    "scrolled": true
   },
   "outputs": [
    {
     "data": {
      "text/html": [
       "<div>\n",
       "<style scoped>\n",
       "    .dataframe tbody tr th:only-of-type {\n",
       "        vertical-align: middle;\n",
       "    }\n",
       "\n",
       "    .dataframe tbody tr th {\n",
       "        vertical-align: top;\n",
       "    }\n",
       "\n",
       "    .dataframe thead th {\n",
       "        text-align: right;\n",
       "    }\n",
       "</style>\n",
       "<table border=\"1\" class=\"dataframe\">\n",
       "  <thead>\n",
       "    <tr style=\"text-align: right;\">\n",
       "      <th></th>\n",
       "      <th>market</th>\n",
       "      <th>id</th>\n",
       "      <th>code_ncaa</th>\n",
       "      <th>color</th>\n",
       "    </tr>\n",
       "  </thead>\n",
       "  <tbody>\n",
       "    <tr>\n",
       "      <th>0</th>\n",
       "      <td>Milwaukee</td>\n",
       "      <td>5d77800f-1ae6-4b66-8e97-b0dbb8bbc717</td>\n",
       "      <td>797</td>\n",
       "      <td>#000000</td>\n",
       "    </tr>\n",
       "    <tr>\n",
       "      <th>1</th>\n",
       "      <td>Colorado</td>\n",
       "      <td>9fccbf28-2858-4263-821c-fdefb3c7efa3</td>\n",
       "      <td>157</td>\n",
       "      <td>#000000</td>\n",
       "    </tr>\n",
       "    <tr>\n",
       "      <th>2</th>\n",
       "      <td>Northeastern</td>\n",
       "      <td>93df9b18-e9fc-42a7-bb45-a736c203b4dc</td>\n",
       "      <td>500</td>\n",
       "      <td>#000000</td>\n",
       "    </tr>\n",
       "    <tr>\n",
       "      <th>3</th>\n",
       "      <td>Georgia Southern</td>\n",
       "      <td>6b955b96-b736-475e-bffd-e4acf2054169</td>\n",
       "      <td>253</td>\n",
       "      <td>#000066</td>\n",
       "    </tr>\n",
       "    <tr>\n",
       "      <th>4</th>\n",
       "      <td>Richmond</td>\n",
       "      <td>9b66e1e0-aace-4671-9be2-54c8acf5ecfc</td>\n",
       "      <td>575</td>\n",
       "      <td>#000066</td>\n",
       "    </tr>\n",
       "  </tbody>\n",
       "</table>\n",
       "</div>"
      ],
      "text/plain": [
       "             market                                    id  code_ncaa    color\n",
       "0         Milwaukee  5d77800f-1ae6-4b66-8e97-b0dbb8bbc717        797  #000000\n",
       "1          Colorado  9fccbf28-2858-4263-821c-fdefb3c7efa3        157  #000000\n",
       "2      Northeastern  93df9b18-e9fc-42a7-bb45-a736c203b4dc        500  #000000\n",
       "3  Georgia Southern  6b955b96-b736-475e-bffd-e4acf2054169        253  #000066\n",
       "4          Richmond  9b66e1e0-aace-4671-9be2-54c8acf5ecfc        575  #000066"
      ]
     },
     "execution_count": 3,
     "metadata": {},
     "output_type": "execute_result"
    }
   ],
   "source": [
    "df2 = pd.read_csv(\"team_colors.csv\", delimiter = ',')\n",
    "df2.to_sql(\"colors_table\", sqlite3.connect(\"teamColors.db\"), if_exists = \"replace\")\n",
    "\n",
    "con = sqlite3.connect(\"teamColors.db\")\n",
    "colors_df = pd.read_sql_query(\"SELECT market,id,code_ncaa,color FROM colors_table\", con)\n",
    "colors_df.head()"
   ]
  },
  {
   "cell_type": "markdown",
   "metadata": {},
   "source": [
    "### Team Tournamnet Stats"
   ]
  },
  {
   "cell_type": "code",
   "execution_count": 4,
   "metadata": {},
   "outputs": [
    {
     "data": {
      "text/html": [
       "<div>\n",
       "<style scoped>\n",
       "    .dataframe tbody tr th:only-of-type {\n",
       "        vertical-align: middle;\n",
       "    }\n",
       "\n",
       "    .dataframe tbody tr th {\n",
       "        vertical-align: top;\n",
       "    }\n",
       "\n",
       "    .dataframe thead th {\n",
       "        text-align: right;\n",
       "    }\n",
       "</style>\n",
       "<table border=\"1\" class=\"dataframe\">\n",
       "  <thead>\n",
       "    <tr style=\"text-align: right;\">\n",
       "      <th></th>\n",
       "      <th>seed</th>\n",
       "      <th>team</th>\n",
       "      <th>score</th>\n",
       "      <th>seed_2</th>\n",
       "      <th>team_2</th>\n",
       "      <th>score_2</th>\n",
       "    </tr>\n",
       "  </thead>\n",
       "  <tbody>\n",
       "    <tr>\n",
       "      <th>0</th>\n",
       "      <td>1</td>\n",
       "      <td>St Johns</td>\n",
       "      <td>83</td>\n",
       "      <td>16</td>\n",
       "      <td>Southern</td>\n",
       "      <td>59</td>\n",
       "    </tr>\n",
       "    <tr>\n",
       "      <th>1</th>\n",
       "      <td>2</td>\n",
       "      <td>VCU</td>\n",
       "      <td>81</td>\n",
       "      <td>15</td>\n",
       "      <td>Marshall</td>\n",
       "      <td>65</td>\n",
       "    </tr>\n",
       "    <tr>\n",
       "      <th>2</th>\n",
       "      <td>3</td>\n",
       "      <td>Illinois</td>\n",
       "      <td>76</td>\n",
       "      <td>14</td>\n",
       "      <td>Northeastern</td>\n",
       "      <td>57</td>\n",
       "    </tr>\n",
       "    <tr>\n",
       "      <th>3</th>\n",
       "      <td>4</td>\n",
       "      <td>Loyola Illinois</td>\n",
       "      <td>59</td>\n",
       "      <td>13</td>\n",
       "      <td>Iona</td>\n",
       "      <td>58</td>\n",
       "    </tr>\n",
       "    <tr>\n",
       "      <th>4</th>\n",
       "      <td>5</td>\n",
       "      <td>SMU</td>\n",
       "      <td>85</td>\n",
       "      <td>12</td>\n",
       "      <td>Old Dominion</td>\n",
       "      <td>68</td>\n",
       "    </tr>\n",
       "  </tbody>\n",
       "</table>\n",
       "</div>"
      ],
      "text/plain": [
       "   seed             team  score  seed_2        team_2  score_2\n",
       "0     1         St Johns     83      16      Southern       59\n",
       "1     2              VCU     81      15      Marshall       65\n",
       "2     3         Illinois     76      14  Northeastern       57\n",
       "3     4  Loyola Illinois     59      13          Iona       58\n",
       "4     5              SMU     85      12  Old Dominion       68"
      ]
     },
     "execution_count": 4,
     "metadata": {},
     "output_type": "execute_result"
    }
   ],
   "source": [
    "df3 = pd.read_csv(\"tourny_stats.csv\", delimiter = ',')\n",
    "df3.to_sql(\"stats_table\", sqlite3.connect(\"teamStats.db\"), if_exists = \"replace\")\n",
    "\n",
    "con = sqlite3.connect(\"teamStats.db\")\n",
    "tourny_df = pd.read_sql_query(\"SELECT seed, team, score, seed_2, team_2, score_2  FROM stats_table\", con)\n",
    "tourny_df.head()"
   ]
  },
  {
   "cell_type": "markdown",
   "metadata": {},
   "source": [
    "### Since the data that we are using doesnt have a 'winner' column we have to do some math. We will get the list of team_1 victors and then we will get the team_2 victors and combine the two dataframes to make one full list of victors"
   ]
  },
  {
   "cell_type": "code",
   "execution_count": 5,
   "metadata": {},
   "outputs": [
    {
     "data": {
      "text/html": [
       "<div>\n",
       "<style scoped>\n",
       "    .dataframe tbody tr th:only-of-type {\n",
       "        vertical-align: middle;\n",
       "    }\n",
       "\n",
       "    .dataframe tbody tr th {\n",
       "        vertical-align: top;\n",
       "    }\n",
       "\n",
       "    .dataframe thead th {\n",
       "        text-align: right;\n",
       "    }\n",
       "</style>\n",
       "<table border=\"1\" class=\"dataframe\">\n",
       "  <thead>\n",
       "    <tr style=\"text-align: right;\">\n",
       "      <th></th>\n",
       "      <th>seed</th>\n",
       "      <th>team</th>\n",
       "    </tr>\n",
       "  </thead>\n",
       "  <tbody>\n",
       "    <tr>\n",
       "      <th>14</th>\n",
       "      <td>11</td>\n",
       "      <td>Boston College</td>\n",
       "    </tr>\n",
       "    <tr>\n",
       "      <th>16</th>\n",
       "      <td>9</td>\n",
       "      <td>Illinois St</td>\n",
       "    </tr>\n",
       "    <tr>\n",
       "      <th>20</th>\n",
       "      <td>13</td>\n",
       "      <td>Navy</td>\n",
       "    </tr>\n",
       "    <tr>\n",
       "      <th>22</th>\n",
       "      <td>11</td>\n",
       "      <td>Auburn</td>\n",
       "    </tr>\n",
       "    <tr>\n",
       "      <th>27</th>\n",
       "      <td>7</td>\n",
       "      <td>Alabama</td>\n",
       "    </tr>\n",
       "  </tbody>\n",
       "</table>\n",
       "</div>"
      ],
      "text/plain": [
       "   seed            team\n",
       "14   11  Boston College\n",
       "16    9     Illinois St\n",
       "20   13            Navy\n",
       "22   11          Auburn\n",
       "27    7         Alabama"
      ]
     },
     "execution_count": 5,
     "metadata": {},
     "output_type": "execute_result"
    }
   ],
   "source": [
    "#taking the tournament past results and filtering it so team_2 wins\n",
    "tourny_wins_df = tourny_df.where(tourny_df[\"score\"] < tourny_df[\"score_2\"],\"FALSE\")\n",
    "tourny_wins_df\n",
    "\n",
    "#return those teams into new df \"teams2\" and just showing the winning team\n",
    "tourny_teams2 = tourny_wins_df[tourny_wins_df.team != 'FALSE']\n",
    "teams2_df = tourny_teams2.iloc[:,3:5]\n",
    "teams2_df.columns = ['seed', 'team']\n",
    "teams2_df.head()"
   ]
  },
  {
   "cell_type": "code",
   "execution_count": 6,
   "metadata": {},
   "outputs": [
    {
     "data": {
      "text/html": [
       "<div>\n",
       "<style scoped>\n",
       "    .dataframe tbody tr th:only-of-type {\n",
       "        vertical-align: middle;\n",
       "    }\n",
       "\n",
       "    .dataframe tbody tr th {\n",
       "        vertical-align: top;\n",
       "    }\n",
       "\n",
       "    .dataframe thead th {\n",
       "        text-align: right;\n",
       "    }\n",
       "</style>\n",
       "<table border=\"1\" class=\"dataframe\">\n",
       "  <thead>\n",
       "    <tr style=\"text-align: right;\">\n",
       "      <th></th>\n",
       "      <th>seed</th>\n",
       "      <th>team</th>\n",
       "    </tr>\n",
       "  </thead>\n",
       "  <tbody>\n",
       "    <tr>\n",
       "      <th>0</th>\n",
       "      <td>1</td>\n",
       "      <td>St Johns</td>\n",
       "    </tr>\n",
       "    <tr>\n",
       "      <th>1</th>\n",
       "      <td>2</td>\n",
       "      <td>VCU</td>\n",
       "    </tr>\n",
       "    <tr>\n",
       "      <th>2</th>\n",
       "      <td>3</td>\n",
       "      <td>Illinois</td>\n",
       "    </tr>\n",
       "    <tr>\n",
       "      <th>3</th>\n",
       "      <td>4</td>\n",
       "      <td>Loyola Illinois</td>\n",
       "    </tr>\n",
       "    <tr>\n",
       "      <th>4</th>\n",
       "      <td>5</td>\n",
       "      <td>SMU</td>\n",
       "    </tr>\n",
       "  </tbody>\n",
       "</table>\n",
       "</div>"
      ],
      "text/plain": [
       "  seed             team\n",
       "0    1         St Johns\n",
       "1    2              VCU\n",
       "2    3         Illinois\n",
       "3    4  Loyola Illinois\n",
       "4    5              SMU"
      ]
     },
     "execution_count": 6,
     "metadata": {},
     "output_type": "execute_result"
    }
   ],
   "source": [
    "#taking the tournament past results and filtering it so team_1 wins\n",
    "tourny_wins_df = tourny_df.where(tourny_df[\"score\"] > tourny_df[\"score_2\"],\"FALSE\")\n",
    "tourny_wins_df\n",
    "\n",
    "#return those teams into new df \"teams2\" and just showing the winning team\n",
    "tourny_teams1 = tourny_wins_df[tourny_wins_df != 'FALSE']\n",
    "teams1_df = tourny_teams1.iloc[:,0:2]\n",
    "teams1_df.head()"
   ]
  },
  {
   "cell_type": "markdown",
   "metadata": {},
   "source": [
    "### Now below are all the instances where a team has won a NCAA Tourny Game since 1985 (mulitples included) combining team1 wins and team2 wins"
   ]
  },
  {
   "cell_type": "code",
   "execution_count": 7,
   "metadata": {},
   "outputs": [
    {
     "data": {
      "text/html": [
       "<div>\n",
       "<style scoped>\n",
       "    .dataframe tbody tr th:only-of-type {\n",
       "        vertical-align: middle;\n",
       "    }\n",
       "\n",
       "    .dataframe tbody tr th {\n",
       "        vertical-align: top;\n",
       "    }\n",
       "\n",
       "    .dataframe thead th {\n",
       "        text-align: right;\n",
       "    }\n",
       "</style>\n",
       "<table border=\"1\" class=\"dataframe\">\n",
       "  <thead>\n",
       "    <tr style=\"text-align: right;\">\n",
       "      <th></th>\n",
       "      <th>seed</th>\n",
       "      <th>team</th>\n",
       "    </tr>\n",
       "  </thead>\n",
       "  <tbody>\n",
       "    <tr>\n",
       "      <th>124</th>\n",
       "      <td>5</td>\n",
       "      <td>Alabama</td>\n",
       "    </tr>\n",
       "    <tr>\n",
       "      <th>453</th>\n",
       "      <td>5</td>\n",
       "      <td>Alabama</td>\n",
       "    </tr>\n",
       "    <tr>\n",
       "      <th>56</th>\n",
       "      <td>7</td>\n",
       "      <td>Alabama</td>\n",
       "    </tr>\n",
       "    <tr>\n",
       "      <th>2102</th>\n",
       "      <td>9</td>\n",
       "      <td>Alabama</td>\n",
       "    </tr>\n",
       "    <tr>\n",
       "      <th>143</th>\n",
       "      <td>2</td>\n",
       "      <td>Alabama</td>\n",
       "    </tr>\n",
       "  </tbody>\n",
       "</table>\n",
       "</div>"
      ],
      "text/plain": [
       "     seed     team\n",
       "124     5  Alabama\n",
       "453     5  Alabama\n",
       "56      7  Alabama\n",
       "2102    9  Alabama\n",
       "143     2  Alabama"
      ]
     },
     "execution_count": 7,
     "metadata": {},
     "output_type": "execute_result"
    }
   ],
   "source": [
    "all_team_wins_df= teams1_df.append(teams2_df)\n",
    "team_wins_df = all_team_wins_df.dropna()\n",
    "teams_sorted = team_wins_df.sort_values('team', ascending=True)\n",
    "teams_sorted.head()"
   ]
  },
  {
   "cell_type": "markdown",
   "metadata": {},
   "source": [
    "## With the team wins tallied we are now able to see a list of teams with the most wins since 1985 as stated below:"
   ]
  },
  {
   "cell_type": "code",
   "execution_count": 8,
   "metadata": {},
   "outputs": [
    {
     "data": {
      "text/html": [
       "<div>\n",
       "<style scoped>\n",
       "    .dataframe tbody tr th:only-of-type {\n",
       "        vertical-align: middle;\n",
       "    }\n",
       "\n",
       "    .dataframe tbody tr th {\n",
       "        vertical-align: top;\n",
       "    }\n",
       "\n",
       "    .dataframe thead th {\n",
       "        text-align: right;\n",
       "    }\n",
       "</style>\n",
       "<table border=\"1\" class=\"dataframe\">\n",
       "  <thead>\n",
       "    <tr style=\"text-align: right;\">\n",
       "      <th></th>\n",
       "      <th>team</th>\n",
       "      <th>win_count</th>\n",
       "    </tr>\n",
       "  </thead>\n",
       "  <tbody>\n",
       "    <tr>\n",
       "      <th>0</th>\n",
       "      <td>Duke</td>\n",
       "      <td>94</td>\n",
       "    </tr>\n",
       "    <tr>\n",
       "      <th>1</th>\n",
       "      <td>North Carolina</td>\n",
       "      <td>89</td>\n",
       "    </tr>\n",
       "    <tr>\n",
       "      <th>2</th>\n",
       "      <td>Kansas</td>\n",
       "      <td>84</td>\n",
       "    </tr>\n",
       "    <tr>\n",
       "      <th>3</th>\n",
       "      <td>Kentucky</td>\n",
       "      <td>80</td>\n",
       "    </tr>\n",
       "    <tr>\n",
       "      <th>4</th>\n",
       "      <td>Connecticut</td>\n",
       "      <td>55</td>\n",
       "    </tr>\n",
       "  </tbody>\n",
       "</table>\n",
       "</div>"
      ],
      "text/plain": [
       "             team  win_count\n",
       "0            Duke         94\n",
       "1  North Carolina         89\n",
       "2          Kansas         84\n",
       "3        Kentucky         80\n",
       "4     Connecticut         55"
      ]
     },
     "execution_count": 8,
     "metadata": {},
     "output_type": "execute_result"
    }
   ],
   "source": [
    "team_tally_df = teams_sorted['team'].value_counts().to_frame('win_count').rename_axis('team').reset_index()\n",
    "team_tally_df.head()"
   ]
  },
  {
   "cell_type": "markdown",
   "metadata": {},
   "source": [
    "## Since we now have a list of total wins by teams we can perform some stats on the list:\n",
    "### - As you can see the vast majority of teams fall well below the 20 win mark with an average of 11 wins\n",
    "### - With a standard deviation of 17 wins this shows the great discrepency of the outliers present "
   ]
  },
  {
   "cell_type": "code",
   "execution_count": 9,
   "metadata": {},
   "outputs": [
    {
     "data": {
      "text/html": [
       "<div>\n",
       "<style scoped>\n",
       "    .dataframe tbody tr th:only-of-type {\n",
       "        vertical-align: middle;\n",
       "    }\n",
       "\n",
       "    .dataframe tbody tr th {\n",
       "        vertical-align: top;\n",
       "    }\n",
       "\n",
       "    .dataframe thead th {\n",
       "        text-align: right;\n",
       "    }\n",
       "</style>\n",
       "<table border=\"1\" class=\"dataframe\">\n",
       "  <thead>\n",
       "    <tr style=\"text-align: right;\">\n",
       "      <th></th>\n",
       "      <th>count</th>\n",
       "      <th>mean</th>\n",
       "      <th>std</th>\n",
       "      <th>min</th>\n",
       "      <th>25%</th>\n",
       "      <th>50%</th>\n",
       "      <th>75%</th>\n",
       "      <th>max</th>\n",
       "    </tr>\n",
       "  </thead>\n",
       "  <tbody>\n",
       "    <tr>\n",
       "      <th>win_count</th>\n",
       "      <td>179.0</td>\n",
       "      <td>11.96648</td>\n",
       "      <td>16.993356</td>\n",
       "      <td>1.0</td>\n",
       "      <td>2.0</td>\n",
       "      <td>4.0</td>\n",
       "      <td>16.0</td>\n",
       "      <td>94.0</td>\n",
       "    </tr>\n",
       "  </tbody>\n",
       "</table>\n",
       "</div>"
      ],
      "text/plain": [
       "           count      mean        std  min  25%  50%   75%   max\n",
       "win_count  179.0  11.96648  16.993356  1.0  2.0  4.0  16.0  94.0"
      ]
     },
     "execution_count": 9,
     "metadata": {},
     "output_type": "execute_result"
    }
   ],
   "source": [
    "#statistics of the win counts seperating every team\n",
    "team_tally_df.describe().T \n",
    "#.T changes stat layout from rows to columns"
   ]
  },
  {
   "cell_type": "code",
   "execution_count": 10,
   "metadata": {},
   "outputs": [
    {
     "data": {
      "image/png": "[encoded data removed]",
      "text/plain": [
       "<Figure size 432x288 with 1 Axes>"
      ]
     },
     "metadata": {},
     "output_type": "display_data"
    }
   ],
   "source": [
    "ax = plt.hist(team_tally_df['win_count'], alpha=0.5,\n",
    "                histtype='stepfilled', color='steelblue',\n",
    "                edgecolor='none')\n",
    "plt.xlabel('Total Team Wins')\n",
    "plt.ylabel('Number of Teams')\n",
    "plt.suptitle(\"Distribution of Team NCAA Tournament Wins since 1985\")\n",
    "plt.show()"
   ]
  },
  {
   "cell_type": "markdown",
   "metadata": {},
   "source": [
    "## So here we have, in bar chart form, the top 25 college basketball teams in terms of NCAA Tournament Wins since 1985"
   ]
  },
  {
   "cell_type": "code",
   "execution_count": 11,
   "metadata": {
    "scrolled": true
   },
   "outputs": [
    {
     "data": {
      "image/png": "[encoded data removed]",
      "text/plain": [
       "<Figure size 432x288 with 1 Axes>"
      ]
     },
     "metadata": {},
     "output_type": "display_data"
    }
   ],
   "source": [
    "ax = teams_sorted['team'].value_counts().head(25).plot('bar', title= 'Top 25 NCAA Tournament Wins per School Since 1985')\n",
    "ax.set_xlabel(\"Teams\")\n",
    "ax.set_ylabel(\"Wins\")\n",
    "plt.show()"
   ]
  },
  {
   "cell_type": "markdown",
   "metadata": {},
   "source": [
    "### Next we have to use the above data and filter out the Mascot Data frame with only the teams that have won an NCAA Tournamnet game"
   ]
  },
  {
   "cell_type": "code",
   "execution_count": 12,
   "metadata": {},
   "outputs": [
    {
     "data": {
      "text/html": [
       "<div>\n",
       "<style scoped>\n",
       "    .dataframe tbody tr th:only-of-type {\n",
       "        vertical-align: middle;\n",
       "    }\n",
       "\n",
       "    .dataframe tbody tr th {\n",
       "        vertical-align: top;\n",
       "    }\n",
       "\n",
       "    .dataframe thead th {\n",
       "        text-align: right;\n",
       "    }\n",
       "</style>\n",
       "<table border=\"1\" class=\"dataframe\">\n",
       "  <thead>\n",
       "    <tr style=\"text-align: right;\">\n",
       "      <th></th>\n",
       "      <th>id</th>\n",
       "      <th>market</th>\n",
       "      <th>name</th>\n",
       "      <th>mascot</th>\n",
       "      <th>mascot_name</th>\n",
       "      <th>mascot_common_name</th>\n",
       "    </tr>\n",
       "  </thead>\n",
       "  <tbody>\n",
       "    <tr>\n",
       "      <th>0</th>\n",
       "      <td>2959bd24-7007-41ae-a3a3-abdf26888cfc</td>\n",
       "      <td>Tulsa</td>\n",
       "      <td>Golden Hurricane</td>\n",
       "      <td>Hurricane</td>\n",
       "      <td>Captain Cane</td>\n",
       "      <td>Hurricane</td>\n",
       "    </tr>\n",
       "    <tr>\n",
       "      <th>2</th>\n",
       "      <td>f2d01b77-0f5d-4574-9e49-2a3eaf822e44</td>\n",
       "      <td>Drexel</td>\n",
       "      <td>Dragons</td>\n",
       "      <td>Dragon</td>\n",
       "      <td>Mario the Magnificent</td>\n",
       "      <td>Dragon</td>\n",
       "    </tr>\n",
       "    <tr>\n",
       "      <th>3</th>\n",
       "      <td>b47d10b8-a2a5-47df-a2f9-7bd0b9d51beb</td>\n",
       "      <td>Bradley</td>\n",
       "      <td>Braves</td>\n",
       "      <td>Gargoyle</td>\n",
       "      <td>Kaboom!</td>\n",
       "      <td>Gargoyle</td>\n",
       "    </tr>\n",
       "    <tr>\n",
       "      <th>5</th>\n",
       "      <td>bdc2561d-f603-4fab-a262-f1d2af462277</td>\n",
       "      <td>Michigan</td>\n",
       "      <td>Wolverines</td>\n",
       "      <td>None</td>\n",
       "      <td>None</td>\n",
       "      <td>Wolverine</td>\n",
       "    </tr>\n",
       "    <tr>\n",
       "      <th>10</th>\n",
       "      <td>4fbebf0a-e117-4a0c-8f15-c247535a2a1b</td>\n",
       "      <td>Wake Forest</td>\n",
       "      <td>Demon Deacons</td>\n",
       "      <td>Demon</td>\n",
       "      <td>Demon Deacon</td>\n",
       "      <td>Demon</td>\n",
       "    </tr>\n",
       "  </tbody>\n",
       "</table>\n",
       "</div>"
      ],
      "text/plain": [
       "                                      id       market              name  \\\n",
       "0   2959bd24-7007-41ae-a3a3-abdf26888cfc        Tulsa  Golden Hurricane   \n",
       "2   f2d01b77-0f5d-4574-9e49-2a3eaf822e44       Drexel           Dragons   \n",
       "3   b47d10b8-a2a5-47df-a2f9-7bd0b9d51beb      Bradley            Braves   \n",
       "5   bdc2561d-f603-4fab-a262-f1d2af462277     Michigan        Wolverines   \n",
       "10  4fbebf0a-e117-4a0c-8f15-c247535a2a1b  Wake Forest     Demon Deacons   \n",
       "\n",
       "       mascot            mascot_name mascot_common_name  \n",
       "0   Hurricane           Captain Cane          Hurricane  \n",
       "2      Dragon  Mario the Magnificent             Dragon  \n",
       "3    Gargoyle                Kaboom!           Gargoyle  \n",
       "5        None                   None          Wolverine  \n",
       "10      Demon           Demon Deacon              Demon  "
      ]
     },
     "execution_count": 12,
     "metadata": {},
     "output_type": "execute_result"
    }
   ],
   "source": [
    "mascot_wins_df = mascots_df.loc[mascots_df.market.isin(teams_sorted['team'])]\n",
    "mascot_wins_df.head()"
   ]
  },
  {
   "cell_type": "markdown",
   "metadata": {},
   "source": [
    "### Once the mascots have been filtered out we can merge the mascot's \"common name\" with the team name and win counts"
   ]
  },
  {
   "cell_type": "code",
   "execution_count": 13,
   "metadata": {},
   "outputs": [
    {
     "data": {
      "text/html": [
       "<div>\n",
       "<style scoped>\n",
       "    .dataframe tbody tr th:only-of-type {\n",
       "        vertical-align: middle;\n",
       "    }\n",
       "\n",
       "    .dataframe tbody tr th {\n",
       "        vertical-align: top;\n",
       "    }\n",
       "\n",
       "    .dataframe thead th {\n",
       "        text-align: right;\n",
       "    }\n",
       "</style>\n",
       "<table border=\"1\" class=\"dataframe\">\n",
       "  <thead>\n",
       "    <tr style=\"text-align: right;\">\n",
       "      <th></th>\n",
       "      <th>id</th>\n",
       "      <th>team</th>\n",
       "      <th>mascot_common_name</th>\n",
       "      <th>win_count</th>\n",
       "    </tr>\n",
       "  </thead>\n",
       "  <tbody>\n",
       "    <tr>\n",
       "      <th>15</th>\n",
       "      <td>faeb1160-5d15-4f26-99fc-c441cf21fc7f</td>\n",
       "      <td>Duke</td>\n",
       "      <td>Blue Devil</td>\n",
       "      <td>94</td>\n",
       "    </tr>\n",
       "    <tr>\n",
       "      <th>108</th>\n",
       "      <td>e9ca48b2-00ba-41c0-a02b-6885a2da1ff1</td>\n",
       "      <td>North Carolina</td>\n",
       "      <td>Sheep</td>\n",
       "      <td>89</td>\n",
       "    </tr>\n",
       "    <tr>\n",
       "      <th>11</th>\n",
       "      <td>fae4855b-1b64-4b40-a632-9ed345e1e952</td>\n",
       "      <td>Kansas</td>\n",
       "      <td>Jayhawk</td>\n",
       "      <td>84</td>\n",
       "    </tr>\n",
       "    <tr>\n",
       "      <th>69</th>\n",
       "      <td>2267a1f4-68f6-418b-aaf6-2aa0c4b291f1</td>\n",
       "      <td>Kentucky</td>\n",
       "      <td>Wildcat</td>\n",
       "      <td>80</td>\n",
       "    </tr>\n",
       "    <tr>\n",
       "      <th>88</th>\n",
       "      <td>efba5350-79bc-47aa-a189-db177b95b491</td>\n",
       "      <td>Connecticut</td>\n",
       "      <td>Domestic dog</td>\n",
       "      <td>55</td>\n",
       "    </tr>\n",
       "    <tr>\n",
       "      <th>97</th>\n",
       "      <td>8cd24de1-2be8-4b77-bcfa-47be0495a5f4</td>\n",
       "      <td>Syracuse</td>\n",
       "      <td>Orange</td>\n",
       "      <td>54</td>\n",
       "    </tr>\n",
       "    <tr>\n",
       "      <th>71</th>\n",
       "      <td>9b166a3f-e64b-4825-bb6b-92c6f0418263</td>\n",
       "      <td>Arizona</td>\n",
       "      <td>Wildcat</td>\n",
       "      <td>54</td>\n",
       "    </tr>\n",
       "    <tr>\n",
       "      <th>115</th>\n",
       "      <td>b795ddbc-baab-4499-8803-52e8608520ab</td>\n",
       "      <td>Louisville</td>\n",
       "      <td>Cardinal</td>\n",
       "      <td>49</td>\n",
       "    </tr>\n",
       "    <tr>\n",
       "      <th>96</th>\n",
       "      <td>912f8837-1d81-4ef9-a576-a21f271d4c64</td>\n",
       "      <td>Florida</td>\n",
       "      <td>Alligator</td>\n",
       "      <td>46</td>\n",
       "    </tr>\n",
       "    <tr>\n",
       "      <th>76</th>\n",
       "      <td>ec0d6b67-4b16-4b50-92b2-1a651dae6b0f</td>\n",
       "      <td>UCLA</td>\n",
       "      <td>Brown Bear</td>\n",
       "      <td>46</td>\n",
       "    </tr>\n",
       "  </tbody>\n",
       "</table>\n",
       "</div>"
      ],
      "text/plain": [
       "                                       id            team mascot_common_name  \\\n",
       "15   faeb1160-5d15-4f26-99fc-c441cf21fc7f            Duke         Blue Devil   \n",
       "108  e9ca48b2-00ba-41c0-a02b-6885a2da1ff1  North Carolina              Sheep   \n",
       "11   fae4855b-1b64-4b40-a632-9ed345e1e952          Kansas            Jayhawk   \n",
       "69   2267a1f4-68f6-418b-aaf6-2aa0c4b291f1        Kentucky            Wildcat   \n",
       "88   efba5350-79bc-47aa-a189-db177b95b491     Connecticut       Domestic dog   \n",
       "97   8cd24de1-2be8-4b77-bcfa-47be0495a5f4        Syracuse             Orange   \n",
       "71   9b166a3f-e64b-4825-bb6b-92c6f0418263         Arizona            Wildcat   \n",
       "115  b795ddbc-baab-4499-8803-52e8608520ab      Louisville           Cardinal   \n",
       "96   912f8837-1d81-4ef9-a576-a21f271d4c64         Florida          Alligator   \n",
       "76   ec0d6b67-4b16-4b50-92b2-1a651dae6b0f            UCLA         Brown Bear   \n",
       "\n",
       "     win_count  \n",
       "15          94  \n",
       "108         89  \n",
       "11          84  \n",
       "69          80  \n",
       "88          55  \n",
       "97          54  \n",
       "71          54  \n",
       "115         49  \n",
       "96          46  \n",
       "76          46  "
      ]
     },
     "execution_count": 13,
     "metadata": {},
     "output_type": "execute_result"
    }
   ],
   "source": [
    "mascot_wins_split_df = pd.merge(mascot_wins_df, team_tally_df, how=\"left\", left_on=[\"market\"], right_on=[\"team\"])\n",
    "sorted_mascot_wins = mascot_wins_split_df[[\"id\",\"team\",\"mascot_common_name\",\n",
    "                                           \"win_count\"]].sort_values('win_count', ascending=False)\n",
    "sorted_mascot_wins.head(10)"
   ]
  },
  {
   "cell_type": "markdown",
   "metadata": {},
   "source": [
    "### Now we will further catagorize the mascot names by being either Human or Non-Human and sorting then "
   ]
  },
  {
   "cell_type": "code",
   "execution_count": 14,
   "metadata": {},
   "outputs": [
    {
     "data": {
      "text/html": [
       "<div>\n",
       "<style scoped>\n",
       "    .dataframe tbody tr th:only-of-type {\n",
       "        vertical-align: middle;\n",
       "    }\n",
       "\n",
       "    .dataframe tbody tr th {\n",
       "        vertical-align: top;\n",
       "    }\n",
       "\n",
       "    .dataframe thead th {\n",
       "        text-align: right;\n",
       "    }\n",
       "</style>\n",
       "<table border=\"1\" class=\"dataframe\">\n",
       "  <thead>\n",
       "    <tr style=\"text-align: right;\">\n",
       "      <th></th>\n",
       "      <th>id</th>\n",
       "      <th>team</th>\n",
       "      <th>mascot_common_name</th>\n",
       "      <th>win_count</th>\n",
       "      <th>mascot_type</th>\n",
       "    </tr>\n",
       "  </thead>\n",
       "  <tbody>\n",
       "    <tr>\n",
       "      <th>15</th>\n",
       "      <td>faeb1160-5d15-4f26-99fc-c441cf21fc7f</td>\n",
       "      <td>Duke</td>\n",
       "      <td>Blue Devil</td>\n",
       "      <td>94</td>\n",
       "      <td>Non_Human</td>\n",
       "    </tr>\n",
       "    <tr>\n",
       "      <th>108</th>\n",
       "      <td>e9ca48b2-00ba-41c0-a02b-6885a2da1ff1</td>\n",
       "      <td>North Carolina</td>\n",
       "      <td>Sheep</td>\n",
       "      <td>89</td>\n",
       "      <td>Non_Human</td>\n",
       "    </tr>\n",
       "    <tr>\n",
       "      <th>11</th>\n",
       "      <td>fae4855b-1b64-4b40-a632-9ed345e1e952</td>\n",
       "      <td>Kansas</td>\n",
       "      <td>Jayhawk</td>\n",
       "      <td>84</td>\n",
       "      <td>Non_Human</td>\n",
       "    </tr>\n",
       "    <tr>\n",
       "      <th>69</th>\n",
       "      <td>2267a1f4-68f6-418b-aaf6-2aa0c4b291f1</td>\n",
       "      <td>Kentucky</td>\n",
       "      <td>Wildcat</td>\n",
       "      <td>80</td>\n",
       "      <td>Non_Human</td>\n",
       "    </tr>\n",
       "    <tr>\n",
       "      <th>88</th>\n",
       "      <td>efba5350-79bc-47aa-a189-db177b95b491</td>\n",
       "      <td>Connecticut</td>\n",
       "      <td>Domestic dog</td>\n",
       "      <td>55</td>\n",
       "      <td>Non_Human</td>\n",
       "    </tr>\n",
       "  </tbody>\n",
       "</table>\n",
       "</div>"
      ],
      "text/plain": [
       "                                       id            team mascot_common_name  \\\n",
       "15   faeb1160-5d15-4f26-99fc-c441cf21fc7f            Duke         Blue Devil   \n",
       "108  e9ca48b2-00ba-41c0-a02b-6885a2da1ff1  North Carolina              Sheep   \n",
       "11   fae4855b-1b64-4b40-a632-9ed345e1e952          Kansas            Jayhawk   \n",
       "69   2267a1f4-68f6-418b-aaf6-2aa0c4b291f1        Kentucky            Wildcat   \n",
       "88   efba5350-79bc-47aa-a189-db177b95b491     Connecticut       Domestic dog   \n",
       "\n",
       "     win_count mascot_type  \n",
       "15          94   Non_Human  \n",
       "108         89   Non_Human  \n",
       "11          84   Non_Human  \n",
       "69          80   Non_Human  \n",
       "88          55   Non_Human  "
      ]
     },
     "execution_count": 14,
     "metadata": {},
     "output_type": "execute_result"
    }
   ],
   "source": [
    "sorted_mascot_wins['mascot_type'] = np.where(sorted_mascot_wins['mascot_common_name']=='Human', 'Human', 'Non_Human')\n",
    "sorted_mascot_wins.sort_values('mascot_type', ascending=False)\n",
    "sorted_mascot_wins.head()"
   ]
  },
  {
   "cell_type": "markdown",
   "metadata": {},
   "source": [
    "### After catagorizing our mascot types we can now count how many are in the dataframe and return a tally of each."
   ]
  },
  {
   "cell_type": "code",
   "execution_count": 15,
   "metadata": {},
   "outputs": [
    {
     "data": {
      "text/plain": [
       "mascot_type\n",
       "Human         303\n",
       "Non_Human    1436\n",
       "Name: win_count, dtype: int64"
      ]
     },
     "execution_count": 15,
     "metadata": {},
     "output_type": "execute_result"
    }
   ],
   "source": [
    "mascot_tally = sorted_mascot_wins.groupby(['mascot_type'])[\"win_count\"].sum()\n",
    "mascot_tally"
   ]
  },
  {
   "cell_type": "code",
   "execution_count": 16,
   "metadata": {},
   "outputs": [
    {
     "data": {
      "image/png": "[encoded data removed]",
      "text/plain": [
       "<Figure size 432x288 with 1 Axes>"
      ]
     },
     "metadata": {},
     "output_type": "display_data"
    }
   ],
   "source": [
    "#creating a bar chart depicting the difference of human and non-human wins\n",
    "\n",
    "ax = mascot_tally.plot('bar', color = ['silver','lightblue'], \n",
    "                       fontsize=10,  title= 'Mascot-Type Wins per School Since 1985')\n",
    "ax.set_xlabel(\"\")\n",
    "ax.set_ylabel(\"Wins\")\n",
    "plt.show()"
   ]
  },
  {
   "cell_type": "code",
   "execution_count": 17,
   "metadata": {},
   "outputs": [
    {
     "data": {
      "image/png": "[encoded data removed]",
      "text/plain": [
       "<Figure size 432x288 with 1 Axes>"
      ]
     },
     "metadata": {},
     "output_type": "display_data"
    }
   ],
   "source": [
    "#creating a pie chart depicting the ratio of human and non-human wins\n",
    "\n",
    "ax= mascot_tally.plot('pie', shadow=True, counterclock=False, colors = ['silver','lightblue'], fontsize=12,\n",
    "                  autopct='%1.0f%%', title= 'Human vs Non-Human Mascots NCAA Tournamnet Wins Since 1985')\n",
    "ax.set_ylabel('')\n",
    "plt.show()"
   ]
  },
  {
   "cell_type": "markdown",
   "metadata": {},
   "source": [
    "### In conclusion the data presented in this report shows that there is in fact a trend, at least on the surface, showing Non-Human Mascots win about 83% more often than Human Mascots.\n",
    "### However, there are clear arguments that this correlation shouldn't bear much weight especially since the \"Top 25 Wins per Team\" and the \"win distribution\" graphs show that the top 10 teams in history are Non-Human Mascots which are skewing the data towards the Non-Humans.\n",
    "### Things to consider moving forwards to further this study:\n",
    "#### - Adding wins from the NCAA Tournament previous to 1985\n",
    "#### - Schools recruiting class rankings\n",
    "#### - Conference performances\n",
    "#### - Potentially looking at wins from the entire seasons to have a larger sample size"
   ]
  },
  {
   "cell_type": "code",
   "execution_count": null,
   "metadata": {},
   "outputs": [],
   "source": []
  }
 ],
 "metadata": {
  "kernelspec": {
   "display_name": "Python 3",
   "language": "python",
   "name": "python3"
  },
  "language_info": {
   "codemirror_mode": {
    "name": "ipython",
    "version": 3
   },
   "file_extension": ".py",
   "mimetype": "text/x-python",
   "name": "python",
   "nbconvert_exporter": "python",
   "pygments_lexer": "ipython3",
   "version": "3.6.5"
  }
 },
 "nbformat": 4,
 "nbformat_minor": 2
}
